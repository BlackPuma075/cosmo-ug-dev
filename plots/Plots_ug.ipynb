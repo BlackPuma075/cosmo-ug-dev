{
 "cells": [
  {
   "cell_type": "code",
   "execution_count": 1,
   "id": "fc989cce-59be-4b66-9766-1521cd17027a",
   "metadata": {
    "tags": []
   },
   "outputs": [],
   "source": [
    "import numpy as np\n",
    "import matplotlib.pyplot as plt\n",
    "from desilike.samples import Chain, plotting\n",
    "#from desilike.theories.galaxy_clustering import FOLPSAXTracerPowerSpectrumMultipoles, DirectPowerSpectrumTemplate\n",
    "#from desilike.theories import Cosmoprimo\n",
    "import emcee\n",
    "import getdist\n",
    "import IPython\n",
    "from getdist import plots, MCSamples\n",
    "from cosmoprimo.fiducial import DESI\n",
    "\n",
    "cosmo = DESI()"
   ]
  },
  {
   "cell_type": "code",
   "execution_count": null,
   "id": "969ab955-4ad0-4314-9182-14f00a99be02",
   "metadata": {},
   "outputs": [],
   "source": [
    "chain = Chain.load('Chains/ug_desiy1_rept_fs-all_schoneberg2024-bbn_planck2018-ns10_physprior_LCDM_kmax0p2.npy').remove_burnin(0.3)"
   ]
  },
  {
   "cell_type": "code",
   "execution_count": null,
   "id": "66444d6d-0b90-49b7-8dea-82e82b180caf",
   "metadata": {},
   "outputs": [],
   "source": [
    "plt.rc('text', usetex=True)  # Activa el uso de LaTeX\n",
    "plt.rc('font', family='serif')  # Usa una fuente tipo serif (como Computer Modern)\n",
    "\n",
    "%matplotlib inline\n",
    "%config InlineBackend.figure_format = 'retina'\n",
    "samples = Chain.to_getdist(chain, params=['H0','Omega_m','logA', 'sigma8_m', 'n_s'])\n",
    "\n",
    "samples.setParamNames(['H0','omegam', 'logA','sigma8','ns'])\n",
    "\n",
    "s = samples.copy(settings={'mult_bias_correction_order':1,\n",
    "                       'smooth_scale_2D':0.7, \n",
    "                       'smooth_scale_1D':0.7})\n",
    "\n",
    "g = plots.get_subplot_plotter()\n",
    "g.settings.figure_legend_frame = False\n",
    "g.settings.alpha_filled_add = 0.8  # Transparency for filled contours\n",
    "#g.settings.linewidth = 1.5  # Width of contour lines\n",
    "g.settings.axis_marker_color = 'k'\n",
    "5#16 #18\n",
    "g.settings.axes_labelsize = 22  #22\n",
    "g.settings.axes_fontsize = 16 #16\n",
    "g.settings.axis_marker_lw = 1\n",
    "\n",
    "plt.rcParams['font.family'] = 'serif'  # You can use 'monospace', 'Times New Roman', etc.\n",
    "plt.rcParams['legend.fontsize'] = 35   # Adjust legend font size\n",
    "params =['omega_b','h','ns']\n",
    "g.triangle_plot([s], filled=[True],\n",
    "               contour_colors=['cadetblue','goldenrod', 'orchid','lime','gray'],figure_kwargs={\"figsize\": (15,15)},\n",
    "                contour_lws = [1.5], contour_ls = ['-'],marker_args = ({'color':'k','lw' :  1}),\n",
    "                params = params,\n",
    "               markers = [cosmo['h'],cosmo['omega_b'],cosmo['n_s']],\n",
    "                #title_limit=0,\n",
    "                legend_labels = [r'FS+BAO+BBN+$n_{s}10$',r'KP5 reference chain']\n",
    "                ,legend_loc = 'upper right', param_limits=({r'$\\sum{m_{\\nu}}$':[0,5]}))\n",
    "#plt.suptitle(r'DESIY1 - desilike $f_{R0}$ constraint')\n",
    "#plt.savefig('Graphs/BAO only')"
   ]
  }
 ],
 "metadata": {
  "kernelspec": {
   "display_name": "cosmodesi-main",
   "language": "python",
   "name": "cosmodesi-main"
  },
  "language_info": {
   "codemirror_mode": {
    "name": "ipython",
    "version": 3
   },
   "file_extension": ".py",
   "mimetype": "text/x-python",
   "name": "python",
   "nbconvert_exporter": "python",
   "pygments_lexer": "ipython3",
   "version": "3.10.13"
  }
 },
 "nbformat": 4,
 "nbformat_minor": 5
}
